{
  "nbformat": 4,
  "nbformat_minor": 0,
  "metadata": {
    "colab": {
      "provenance": [],
      "gpuType": "T4"
    },
    "kernelspec": {
      "name": "python3",
      "display_name": "Python 3"
    },
    "language_info": {
      "name": "python"
    },
    "accelerator": "GPU"
  },
  "cells": [
    {
      "cell_type": "code",
      "execution_count": null,
      "metadata": {
        "id": "dVWnRM9-F-p_"
      },
      "outputs": [],
      "source": [
        "from keras.models import Sequential\n",
        "from keras import layers as l\n",
        "from keras.datasets import mnist\n",
        "from keras.losses import categorical_crossentropy\n",
        "from keras.optimizers import Adam,SGD\n",
        "from keras.callbacks import EarlyStopping\n",
        "import tensorflow as tf\n",
        "from tensorflow.keras.utils import to_categorical\n",
        "from tensorflow.keras.applications import VGG19\n",
        "from tensorflow.image import resize\n",
        "import numpy as np\n",
        "from matplotlib import pyplot as plt"
      ]
    },
    {
      "cell_type": "code",
      "source": [
        "(x_train,y_train),(x_test,y_test)=mnist.load_data()\n",
        "x_train.shape,y_train.shape"
      ],
      "metadata": {
        "colab": {
          "base_uri": "https://localhost:8080/"
        },
        "id": "_uPP5HxmGxaU",
        "outputId": "36a5a257-72ea-45ba-dbbc-869eb1936d2d"
      },
      "execution_count": null,
      "outputs": [
        {
          "output_type": "stream",
          "name": "stdout",
          "text": [
            "Downloading data from https://storage.googleapis.com/tensorflow/tf-keras-datasets/mnist.npz\n",
            "11490434/11490434 [==============================] - 0s 0us/step\n"
          ]
        },
        {
          "output_type": "execute_result",
          "data": {
            "text/plain": [
              "((60000, 28, 28), (60000,))"
            ]
          },
          "metadata": {},
          "execution_count": 3
        }
      ]
    },
    {
      "cell_type": "code",
      "source": [
        "x_train=x_train.astype('float32')\n",
        "x_test=x_test.astype('float32')\n",
        "x_train=x_train/255\n",
        "x_test/=255"
      ],
      "metadata": {
        "id": "DbqOX5TfIqtG"
      },
      "execution_count": null,
      "outputs": []
    },
    {
      "cell_type": "code",
      "source": [
        "y_train = to_categorical(y_train)\n",
        "y_test = to_categorical(y_test)"
      ],
      "metadata": {
        "id": "KKB-qalTJB4C"
      },
      "execution_count": null,
      "outputs": []
    },
    {
      "cell_type": "code",
      "source": [
        "model = Sequential()\n",
        "model.add(l.Conv2D(64,kernel_size=(3,3),input_shape = (28,28,1),activation = \"relu\", strides=(1,1)))\n",
        "model.add(l.Conv2D(64,kernel_size=(3,3),activation=\"relu\",padding=\"same\"))\n",
        "model.add(l.MaxPooling2D(pool_size=(2,2)))\n",
        "model.add(l.Conv2D(128,kernel_size=(3,3),activation=\"relu\",padding=\"same\"))\n",
        "model.add(l.Conv2D(128,kernel_size=(3,3),activation=\"relu\",padding=\"same\"))\n",
        "model.add(l.MaxPooling2D(pool_size=(2,2)))\n",
        "model.add(l.Conv2D(256,kernel_size=(3,3),activation=\"relu\",padding=\"same\"))\n",
        "model.add(l.Conv2D(256,kernel_size=(3,3),activation=\"relu\",padding=\"same\"))\n",
        "model.add(l.Conv2D(256,kernel_size=(3,3),activation=\"relu\",padding=\"same\"))\n",
        "model.add(l.Conv2D(256,kernel_size=(3,3),activation=\"relu\",padding=\"same\"))\n",
        "model.add(l.MaxPooling2D(pool_size=(2,2)))\n",
        "model.add(l.Conv2D(512,kernel_size=(3,3),activation=\"relu\",padding=\"same\"))\n",
        "model.add(l.Conv2D(512,kernel_size=(3,3),activation=\"relu\",padding=\"same\"))\n",
        "model.add(l.Conv2D(512,kernel_size=(3,3),activation=\"relu\",padding=\"same\"))\n",
        "model.add(l.Conv2D(512,kernel_size=(3,3),activation=\"relu\",padding=\"same\"))\n",
        "model.add(l.MaxPooling2D(pool_size=(2,2)))\n",
        "model.add(l.Conv2D(512,kernel_size=(3,3),activation=\"relu\",padding=\"same\"))\n",
        "model.add(l.Conv2D(512,kernel_size=(3,3),activation=\"relu\",padding=\"same\"))\n",
        "model.add(l.Conv2D(512,kernel_size=(3,3),activation=\"relu\",padding=\"same\"))\n",
        "model.add(l.Conv2D(512,kernel_size=(3,3),activation=\"relu\",padding=\"same\"))\n",
        "model.add(l.MaxPooling2D(pool_size=(1,1)))\n",
        "model.add(l.Flatten())\n",
        "model.add(l.Dense(4096,activation=\"relu\"))\n",
        "model.add(l.Dropout(0.3))\n",
        "model.add(l.Dense(4096,activation=\"relu\"))\n",
        "model.add(l.Dropout(0.3))\n",
        "model.add(l.Dense(4096,activation=\"relu\"))\n",
        "model.add(l.Dropout(0.3))\n",
        "model.add(l.Dense(10,activation=\"softmax\"))"
      ],
      "metadata": {
        "id": "pkk8qVlV50r9"
      },
      "execution_count": null,
      "outputs": []
    },
    {
      "cell_type": "markdown",
      "source": [
        "part A : SGD optimizer"
      ],
      "metadata": {
        "id": "pg3eAdc-tIgt"
      }
    },
    {
      "cell_type": "code",
      "source": [
        "opt=SGD(learning_rate=0.001, momentum=0.99)"
      ],
      "metadata": {
        "id": "OGKkOC7q1ikS"
      },
      "execution_count": null,
      "outputs": []
    },
    {
      "cell_type": "code",
      "source": [
        "model.compile(optimizer=opt,loss=\"categorical_crossentropy\",metrics=\"accuracy\")"
      ],
      "metadata": {
        "id": "NSTyc8UOq3_1"
      },
      "execution_count": null,
      "outputs": []
    },
    {
      "cell_type": "code",
      "source": [
        "callbacks=[EarlyStopping(monitor=\"val_accuracy\",patience=10)]"
      ],
      "metadata": {
        "id": "qIZdzU1nIpYT"
      },
      "execution_count": null,
      "outputs": []
    },
    {
      "cell_type": "code",
      "source": [
        "model.fit(x_train,y_train,epochs=5,batch_size=32,validation_split=0.2,callbacks=callbacks)"
      ],
      "metadata": {
        "id": "_e3huSg-MGqC",
        "colab": {
          "base_uri": "https://localhost:8080/"
        },
        "outputId": "0c80cbf9-ef4d-47c4-cd41-1cdf03b76766"
      },
      "execution_count": null,
      "outputs": [
        {
          "output_type": "stream",
          "name": "stdout",
          "text": [
            "Epoch 1/5\n",
            "1500/1500 [==============================] - 69s 40ms/step - loss: 2.3015 - accuracy: 0.1136 - val_loss: 2.3020 - val_accuracy: 0.1060\n",
            "Epoch 2/5\n",
            "1500/1500 [==============================] - 61s 41ms/step - loss: 2.3011 - accuracy: 0.1140 - val_loss: 2.3021 - val_accuracy: 0.1060\n",
            "Epoch 3/5\n",
            "1500/1500 [==============================] - 62s 41ms/step - loss: 2.3011 - accuracy: 0.1140 - val_loss: 2.3020 - val_accuracy: 0.1060\n",
            "Epoch 4/5\n",
            "1500/1500 [==============================] - 62s 41ms/step - loss: 2.3011 - accuracy: 0.1140 - val_loss: 2.3023 - val_accuracy: 0.1060\n",
            "Epoch 5/5\n",
            "1500/1500 [==============================] - 62s 41ms/step - loss: 2.3011 - accuracy: 0.1140 - val_loss: 2.3022 - val_accuracy: 0.1060\n"
          ]
        },
        {
          "output_type": "execute_result",
          "data": {
            "text/plain": [
              "<keras.src.callbacks.History at 0x7f9f9fda9900>"
            ]
          },
          "metadata": {},
          "execution_count": 10
        }
      ]
    },
    {
      "cell_type": "code",
      "source": [
        "model.evaluate(x_test,y_test)"
      ],
      "metadata": {
        "id": "qCfgVB0aMr-N",
        "colab": {
          "base_uri": "https://localhost:8080/"
        },
        "outputId": "82703242-b82d-4c77-86fb-8549098732bd"
      },
      "execution_count": null,
      "outputs": [
        {
          "output_type": "stream",
          "name": "stdout",
          "text": [
            "313/313 [==============================] - 4s 12ms/step - loss: 2.3010 - accuracy: 0.1135\n"
          ]
        },
        {
          "output_type": "execute_result",
          "data": {
            "text/plain": [
              "[2.3010454177856445, 0.11349999904632568]"
            ]
          },
          "metadata": {},
          "execution_count": 11
        }
      ]
    },
    {
      "cell_type": "markdown",
      "source": [
        "part B: changing momentum of SGD\n",
        "\n",
        "\n"
      ],
      "metadata": {
        "id": "q6poLI2VifMS"
      }
    },
    {
      "cell_type": "code",
      "source": [],
      "metadata": {
        "id": "pzfkk_R6i_X8"
      },
      "execution_count": null,
      "outputs": []
    },
    {
      "cell_type": "code",
      "source": [
        "opt=SGD(learning_rate=0.001, momentum=0)"
      ],
      "metadata": {
        "id": "s_Sgo7eiic20"
      },
      "execution_count": null,
      "outputs": []
    },
    {
      "cell_type": "code",
      "source": [
        "model.compile(optimizer=opt,loss=\"categorical_crossentropy\",metrics=\"accuracy\")"
      ],
      "metadata": {
        "id": "bOjVc2Lwicmz"
      },
      "execution_count": null,
      "outputs": []
    },
    {
      "cell_type": "code",
      "source": [
        "model.fit(x_train,y_train,epochs=5,batch_size=32,validation_split=0.2,callbacks=callbacks)"
      ],
      "metadata": {
        "colab": {
          "base_uri": "https://localhost:8080/"
        },
        "id": "wCeDAJYSicZq",
        "outputId": "80881058-801d-47a8-9cf4-2b8d4a8db19d"
      },
      "execution_count": null,
      "outputs": [
        {
          "output_type": "stream",
          "name": "stdout",
          "text": [
            "Epoch 1/5\n",
            "1500/1500 [==============================] - 64s 41ms/step - loss: 2.3010 - accuracy: 0.1140 - val_loss: 2.3020 - val_accuracy: 0.1060\n",
            "Epoch 2/5\n",
            "1500/1500 [==============================] - 63s 42ms/step - loss: 2.3010 - accuracy: 0.1140 - val_loss: 2.3020 - val_accuracy: 0.1060\n",
            "Epoch 3/5\n",
            "1500/1500 [==============================] - 61s 41ms/step - loss: 2.3010 - accuracy: 0.1140 - val_loss: 2.3020 - val_accuracy: 0.1060\n",
            "Epoch 4/5\n",
            "1500/1500 [==============================] - 63s 42ms/step - loss: 2.3010 - accuracy: 0.1140 - val_loss: 2.3020 - val_accuracy: 0.1060\n",
            "Epoch 5/5\n",
            "1500/1500 [==============================] - 61s 41ms/step - loss: 2.3010 - accuracy: 0.1140 - val_loss: 2.3020 - val_accuracy: 0.1060\n"
          ]
        },
        {
          "output_type": "execute_result",
          "data": {
            "text/plain": [
              "<keras.src.callbacks.History at 0x7f9f9f5427d0>"
            ]
          },
          "metadata": {},
          "execution_count": 22
        }
      ]
    },
    {
      "cell_type": "code",
      "source": [
        "model.evaluate(x_test,y_test)"
      ],
      "metadata": {
        "colab": {
          "base_uri": "https://localhost:8080/"
        },
        "id": "Kg29CD4jicLB",
        "outputId": "7de1550c-a995-4870-caf6-fd23f9cf0800"
      },
      "execution_count": null,
      "outputs": [
        {
          "output_type": "stream",
          "name": "stdout",
          "text": [
            "313/313 [==============================] - 4s 11ms/step - loss: 2.3010 - accuracy: 0.1135\n"
          ]
        },
        {
          "output_type": "execute_result",
          "data": {
            "text/plain": [
              "[2.301021099090576, 0.11349999904632568]"
            ]
          },
          "metadata": {},
          "execution_count": 23
        }
      ]
    },
    {
      "cell_type": "markdown",
      "source": [
        "PART-C : ADAM OPTIMIZER\n"
      ],
      "metadata": {
        "id": "tUnPwDuuuNH9"
      }
    },
    {
      "cell_type": "code",
      "source": [
        "opt=Adam(learning_rate=0.001,beta_1=0.99,beta_2=0.999)"
      ],
      "metadata": {
        "id": "Ivy99sWwh_b2"
      },
      "execution_count": null,
      "outputs": []
    },
    {
      "cell_type": "code",
      "source": [
        "model.compile(optimizer=opt,loss=\"categorical_crossentropy\",metrics=\"accuracy\")"
      ],
      "metadata": {
        "id": "U6wONbceuWw2"
      },
      "execution_count": null,
      "outputs": []
    },
    {
      "cell_type": "code",
      "source": [
        "model.fit(x_train,y_train,epochs=5,batch_size=32,validation_split=0.2,callbacks=callbacks)"
      ],
      "metadata": {
        "id": "fdVsniLOud6z",
        "colab": {
          "base_uri": "https://localhost:8080/"
        },
        "outputId": "4e4d21ed-c821-47f9-f071-c64f918352db"
      },
      "execution_count": null,
      "outputs": [
        {
          "output_type": "stream",
          "name": "stdout",
          "text": [
            "Epoch 1/5\n",
            "1500/1500 [==============================] - 77s 47ms/step - loss: 2.3012 - accuracy: 0.1140 - val_loss: 2.3024 - val_accuracy: 0.1060\n",
            "Epoch 2/5\n",
            "1500/1500 [==============================] - 69s 46ms/step - loss: 2.3012 - accuracy: 0.1140 - val_loss: 2.3022 - val_accuracy: 0.1060\n",
            "Epoch 3/5\n",
            "1500/1500 [==============================] - 69s 46ms/step - loss: 2.3011 - accuracy: 0.1140 - val_loss: 2.3023 - val_accuracy: 0.1060\n",
            "Epoch 4/5\n",
            "1500/1500 [==============================] - 70s 47ms/step - loss: 2.3011 - accuracy: 0.1140 - val_loss: 2.3022 - val_accuracy: 0.1060\n",
            "Epoch 5/5\n",
            "1500/1500 [==============================] - 70s 46ms/step - loss: 2.3011 - accuracy: 0.1140 - val_loss: 2.3020 - val_accuracy: 0.1060\n"
          ]
        },
        {
          "output_type": "execute_result",
          "data": {
            "text/plain": [
              "<keras.src.callbacks.History at 0x7f9f807d5270>"
            ]
          },
          "metadata": {},
          "execution_count": 17
        }
      ]
    },
    {
      "cell_type": "code",
      "source": [
        "model.evaluate(x_test,y_test)"
      ],
      "metadata": {
        "id": "PqCMkO24upEm",
        "colab": {
          "base_uri": "https://localhost:8080/"
        },
        "outputId": "00322330-697a-4bc8-df21-59a2967a3abf"
      },
      "execution_count": null,
      "outputs": [
        {
          "output_type": "stream",
          "name": "stdout",
          "text": [
            "313/313 [==============================] - 4s 11ms/step - loss: 2.3011 - accuracy: 0.1135\n"
          ]
        },
        {
          "output_type": "execute_result",
          "data": {
            "text/plain": [
              "[2.301072597503662, 0.11349999904632568]"
            ]
          },
          "metadata": {},
          "execution_count": 18
        }
      ]
    },
    {
      "cell_type": "markdown",
      "source": [
        "PART-D : MINIBATCH=8\n"
      ],
      "metadata": {
        "id": "0jXU2qivwYz2"
      }
    },
    {
      "cell_type": "code",
      "source": [
        "model.compile(optimizer=opt, loss='categorical_crossentropy', metrics=['accuracy'])\n"
      ],
      "metadata": {
        "id": "Q7es0E1cxcZ-"
      },
      "execution_count": null,
      "outputs": []
    },
    {
      "cell_type": "code",
      "source": [
        "r=model.fit(x_train, y_train, epochs=5, batch_size=8, validation_split=0.2,callbacks=callbacks)\n"
      ],
      "metadata": {
        "id": "anuyF_zCyCaK",
        "colab": {
          "base_uri": "https://localhost:8080/"
        },
        "outputId": "10439507-3aa0-4a17-ec74-2a9660de62ce"
      },
      "execution_count": null,
      "outputs": [
        {
          "output_type": "stream",
          "name": "stdout",
          "text": [
            "Epoch 1/5\n",
            "6000/6000 [==============================] - 235s 38ms/step - loss: 2.3012 - accuracy: 0.1140 - val_loss: 2.3023 - val_accuracy: 0.1060\n",
            "Epoch 2/5\n",
            "6000/6000 [==============================] - 224s 37ms/step - loss: 2.3013 - accuracy: 0.1140 - val_loss: 2.3026 - val_accuracy: 0.1060\n",
            "Epoch 3/5\n",
            "6000/6000 [==============================] - 224s 37ms/step - loss: 2.3014 - accuracy: 0.1140 - val_loss: 2.3021 - val_accuracy: 0.1060\n",
            "Epoch 4/5\n",
            "6000/6000 [==============================] - 223s 37ms/step - loss: 2.3013 - accuracy: 0.1140 - val_loss: 2.3023 - val_accuracy: 0.1060\n",
            "Epoch 5/5\n",
            "6000/6000 [==============================] - 224s 37ms/step - loss: 2.3013 - accuracy: 0.1140 - val_loss: 2.3021 - val_accuracy: 0.1060\n"
          ]
        }
      ]
    },
    {
      "cell_type": "code",
      "source": [
        "model.evaluate(x_test,y_test)"
      ],
      "metadata": {
        "id": "WUVUTJ3UyJ0s",
        "colab": {
          "base_uri": "https://localhost:8080/"
        },
        "outputId": "d457cf59-51bd-4a33-e2d8-c0fdb5623548"
      },
      "execution_count": null,
      "outputs": [
        {
          "output_type": "stream",
          "name": "stdout",
          "text": [
            "313/313 [==============================] - 4s 10ms/step - loss: 2.3009 - accuracy: 0.1135\n"
          ]
        },
        {
          "output_type": "execute_result",
          "data": {
            "text/plain": [
              "[2.3009462356567383, 0.11349999904632568]"
            ]
          },
          "metadata": {},
          "execution_count": 29
        }
      ]
    },
    {
      "cell_type": "markdown",
      "source": [
        "PART E : CHANGING NETWORK SIZE\n"
      ],
      "metadata": {
        "id": "yyrhl84it7-X"
      }
    },
    {
      "cell_type": "code",
      "source": [
        "model = Sequential()\n",
        "model.add(l.Conv2D(128,kernel_size=(3,3),input_shape = (28,28,1),activation = \"relu\", strides=(1,1)))\n",
        "model.add(l.Conv2D(128,kernel_size=(3,3),activation=\"relu\",padding=\"same\"))\n",
        "model.add(l.MaxPooling2D(pool_size=(2,2)))\n",
        "model.add(l.Conv2D(256,kernel_size=(3,3),activation=\"relu\",padding=\"same\"))\n",
        "model.add(l.Conv2D(256,kernel_size=(3,3),activation=\"relu\",padding=\"same\"))\n",
        "model.add(l.MaxPooling2D(pool_size=(2,2)))\n",
        "model.add(l.Conv2D(512,kernel_size=(3,3),activation=\"relu\",padding=\"same\"))\n",
        "model.add(l.Conv2D(512,kernel_size=(3,3),activation=\"relu\",padding=\"same\"))\n",
        "model.add(l.Conv2D(512,kernel_size=(3,3),activation=\"relu\",padding=\"same\"))\n",
        "model.add(l.Conv2D(512,kernel_size=(3,3),activation=\"relu\",padding=\"same\"))\n",
        "model.add(l.MaxPooling2D(pool_size=(2,2)))\n",
        "model.add(l.Conv2D(512,kernel_size=(3,3),activation=\"relu\",padding=\"same\"))\n",
        "model.add(l.Conv2D(512,kernel_size=(3,3),activation=\"relu\",padding=\"same\"))\n",
        "model.add(l.Conv2D(512,kernel_size=(3,3),activation=\"relu\",padding=\"same\"))\n",
        "model.add(l.Conv2D(512,kernel_size=(3,3),activation=\"relu\",padding=\"same\"))\n",
        "model.add(l.MaxPooling2D(pool_size=(2,2)))\n",
        "model.add(l.Conv2D(512,kernel_size=(3,3),activation=\"relu\",padding=\"same\"))\n",
        "model.add(l.Conv2D(512,kernel_size=(3,3),activation=\"relu\",padding=\"same\"))\n",
        "model.add(l.Conv2D(512,kernel_size=(3,3),activation=\"relu\",padding=\"same\"))\n",
        "model.add(l.Conv2D(512,kernel_size=(3,3),activation=\"relu\",padding=\"same\"))\n",
        "model.add(l.MaxPooling2D(pool_size=(1,1)))\n",
        "model.add(l.Flatten())\n",
        "model.add(l.Dense(4096,activation=\"relu\"))\n",
        "model.add(l.Dropout(0.3))\n",
        "model.add(l.Dense(4096,activation=\"relu\"))\n",
        "model.add(l.Dropout(0.3))\n",
        "model.add(l.Dense(4096,activation=\"relu\"))\n",
        "model.add(l.Dropout(0.3))\n",
        "model.add(l.Dense(10,activation=\"softmax\"))\n"
      ],
      "metadata": {
        "id": "NifJkxtzlcJ7"
      },
      "execution_count": null,
      "outputs": []
    },
    {
      "cell_type": "code",
      "source": [
        "model.compile(optimizer=\"SGD\",loss=\"categorical_crossentropy\",metrics=\"accuracy\")"
      ],
      "metadata": {
        "id": "mY-3IluJuQ19"
      },
      "execution_count": null,
      "outputs": []
    },
    {
      "cell_type": "code",
      "source": [
        "r1=model.fit(x_train, y_train, epochs=5, batch_size=32, validation_split=0.2,callbacks=callbacks)\n"
      ],
      "metadata": {
        "colab": {
          "base_uri": "https://localhost:8080/",
          "height": 141
        },
        "id": "MlvlMh8KuXAg",
        "outputId": "2da5d4cd-0208-46c0-e629-0eb9ba6393a5"
      },
      "execution_count": null,
      "outputs": [
        {
          "output_type": "error",
          "ename": "NameError",
          "evalue": "name 'model' is not defined",
          "traceback": [
            "\u001b[0;31m---------------------------------------------------------------------------\u001b[0m",
            "\u001b[0;31mNameError\u001b[0m                                 Traceback (most recent call last)",
            "\u001b[0;32m<ipython-input-5-d12dd04226d6>\u001b[0m in \u001b[0;36m<cell line: 1>\u001b[0;34m()\u001b[0m\n\u001b[0;32m----> 1\u001b[0;31m \u001b[0mr1\u001b[0m\u001b[0;34m=\u001b[0m\u001b[0mmodel\u001b[0m\u001b[0;34m.\u001b[0m\u001b[0mfit\u001b[0m\u001b[0;34m(\u001b[0m\u001b[0mx_train\u001b[0m\u001b[0;34m,\u001b[0m \u001b[0my_train\u001b[0m\u001b[0;34m,\u001b[0m \u001b[0mepochs\u001b[0m\u001b[0;34m=\u001b[0m\u001b[0;36m5\u001b[0m\u001b[0;34m,\u001b[0m \u001b[0mbatch_size\u001b[0m\u001b[0;34m=\u001b[0m\u001b[0;36m32\u001b[0m\u001b[0;34m,\u001b[0m \u001b[0mvalidation_split\u001b[0m\u001b[0;34m=\u001b[0m\u001b[0;36m0.2\u001b[0m\u001b[0;34m,\u001b[0m\u001b[0mcallbacks\u001b[0m\u001b[0;34m=\u001b[0m\u001b[0mcallbacks\u001b[0m\u001b[0;34m)\u001b[0m\u001b[0;34m\u001b[0m\u001b[0;34m\u001b[0m\u001b[0m\n\u001b[0m",
            "\u001b[0;31mNameError\u001b[0m: name 'model' is not defined"
          ]
        }
      ]
    },
    {
      "cell_type": "code",
      "source": [
        "model.evaluate(x_test,y_test)"
      ],
      "metadata": {
        "colab": {
          "base_uri": "https://localhost:8080/"
        },
        "id": "jAxdpYCJucFT",
        "outputId": "81642e14-506b-4214-8335-e38cf415735c"
      },
      "execution_count": null,
      "outputs": [
        {
          "output_type": "stream",
          "name": "stdout",
          "text": [
            "313/313 [==============================] - 6s 17ms/step - loss: 2.3011 - accuracy: 0.1135\n"
          ]
        },
        {
          "output_type": "execute_result",
          "data": {
            "text/plain": [
              "[2.301084518432617, 0.11349999904632568]"
            ]
          },
          "metadata": {},
          "execution_count": 36
        }
      ]
    },
    {
      "cell_type": "code",
      "source": [],
      "metadata": {
        "id": "6CRLFVyIy3yX"
      },
      "execution_count": null,
      "outputs": []
    }
  ]
}